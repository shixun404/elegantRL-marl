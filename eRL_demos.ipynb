{
 "cells": [
  {
   "cell_type": "markdown",
   "source": [
    "## Demo 1~3\n",
    "You can find a simple version in `elegantrl/tutorial/run.py`\n",
    "You can also find demo 1~3 in `elegantrl/run.py` (formal version)\n",
    "\n",
    "elegantrl/tutorial <1000 lines \n",
    "```\n",
    "net.py   # 160 lines\n",
    "agent.py # 530 lines\n",
    "run.py   # 320 lines\n",
    "env.py   # 160 lines (not necessary)\n",
    "```\n",
    "The structtion of formal version is similar to tutorial version."
   ],
   "metadata": {}
  },
  {
   "cell_type": "code",
   "execution_count": 11,
   "source": [
    "from elegantrl.tutorial.run import Arguments, train_and_evaluate\n",
    "from elegantrl.env import PreprocessEnv\n",
    "import gym\n",
    "gym.logger.set_level(40)  # Block warning"
   ],
   "outputs": [],
   "metadata": {}
  },
  {
   "cell_type": "markdown",
   "source": [
    "## Demo 1: Discrete action space"
   ],
   "metadata": {}
  },
  {
   "cell_type": "code",
   "execution_count": 15,
   "source": [
    "from elegantrl.tutorial.run import Arguments, train_and_evaluate,mpe_make_env\n",
    "from elegantrl.env import PreprocessEnv\n",
    "env = mpe_make_env('simple_spread')"
   ],
   "outputs": [],
   "metadata": {}
  },
  {
   "cell_type": "code",
   "execution_count": 16,
   "source": [
    "'''choose an DRL algorithm'''\n",
    "from elegantrl.tutorial.agent import AgentDoubleDQN  # AgentDQN\n",
    "\n",
    "args = Arguments(agent=None, env=None, gpu_id=None)\n",
    "args.agent = AgentDQN()"
   ],
   "outputs": [
    {
     "output_type": "error",
     "ename": "TypeError",
     "evalue": "__init__() got an unexpected keyword argument 'gpu_id'",
     "traceback": [
      "\u001b[0;31m---------------------------------------------------------------------------\u001b[0m",
      "\u001b[0;31mTypeError\u001b[0m                                 Traceback (most recent call last)",
      "\u001b[0;32m/tmp/ipykernel_31091/2081027917.py\u001b[0m in \u001b[0;36m<module>\u001b[0;34m\u001b[0m\n\u001b[1;32m      2\u001b[0m \u001b[0;32mfrom\u001b[0m \u001b[0melegantrl\u001b[0m\u001b[0;34m.\u001b[0m\u001b[0mtutorial\u001b[0m\u001b[0;34m.\u001b[0m\u001b[0magent\u001b[0m \u001b[0;32mimport\u001b[0m \u001b[0mAgentDoubleDQN\u001b[0m  \u001b[0;31m# AgentDQN\u001b[0m\u001b[0;34m\u001b[0m\u001b[0;34m\u001b[0m\u001b[0m\n\u001b[1;32m      3\u001b[0m \u001b[0;34m\u001b[0m\u001b[0m\n\u001b[0;32m----> 4\u001b[0;31m \u001b[0margs\u001b[0m \u001b[0;34m=\u001b[0m \u001b[0mArguments\u001b[0m\u001b[0;34m(\u001b[0m\u001b[0magent\u001b[0m\u001b[0;34m=\u001b[0m\u001b[0;32mNone\u001b[0m\u001b[0;34m,\u001b[0m \u001b[0menv\u001b[0m\u001b[0;34m=\u001b[0m\u001b[0;32mNone\u001b[0m\u001b[0;34m,\u001b[0m \u001b[0mgpu_id\u001b[0m\u001b[0;34m=\u001b[0m\u001b[0;32mNone\u001b[0m\u001b[0;34m)\u001b[0m\u001b[0;34m\u001b[0m\u001b[0;34m\u001b[0m\u001b[0m\n\u001b[0m\u001b[1;32m      5\u001b[0m \u001b[0margs\u001b[0m\u001b[0;34m.\u001b[0m\u001b[0magent\u001b[0m \u001b[0;34m=\u001b[0m \u001b[0mAgentDQN\u001b[0m\u001b[0;34m(\u001b[0m\u001b[0;34m)\u001b[0m\u001b[0;34m\u001b[0m\u001b[0;34m\u001b[0m\u001b[0m\n",
      "\u001b[0;31mTypeError\u001b[0m: __init__() got an unexpected keyword argument 'gpu_id'"
     ]
    }
   ],
   "metadata": {}
  },
  {
   "cell_type": "code",
   "execution_count": 3,
   "source": [
    "'''choose environment'''\n",
    "args.env = PreprocessEnv(env=gym.make('CartPole-v0'))\n",
    "args.net_dim = 2 ** 7  # change a default hyper-parameters\n",
    "args.batch_size = 2 ** 7\n",
    "\"TotalStep: 2e3, TargetReward: , UsedTime: 10s\"\n",
    "\n",
    "# args.env = PreprocessEnv(env=gym.make('LunarLander-v2'))\n",
    "# args.net_dim = 2 ** 8\n",
    "# args.batch_size = 2 ** 8"
   ],
   "outputs": [
    {
     "output_type": "stream",
     "name": "stdout",
     "text": [
      "\n",
      "| env_name: CartPole-v0, action space if_discrete: True\n",
      "| state_dim: 4, action_dim: 2, action_max: 1\n",
      "| max_step: 200 target_reward: 195.0\n"
     ]
    },
    {
     "output_type": "execute_result",
     "data": {
      "text/plain": [
       "'TotalStep: 2e3, TargetReward: , UsedTime: 10s'"
      ]
     },
     "metadata": {},
     "execution_count": 3
    }
   ],
   "metadata": {}
  },
  {
   "cell_type": "code",
   "execution_count": 4,
   "source": [
    "'''train and evaluate'''\n",
    "train_and_evaluate(args)"
   ],
   "outputs": [
    {
     "output_type": "stream",
     "name": "stdout",
     "text": [
      "| GPU id: 0, cwd: ./CartPole-v0_0\n",
      "| Remove history\n",
      "ID      Step      MaxR |    avgR      stdR       objA      objC\n",
      "0   0.00e+00    200.00 |\n",
      "ID      Step   TargetR |    avgR      stdR   UsedTime  ########\n",
      "0   1.02e+03    195.00 |  200.00      0.00         12  ########\n"
     ]
    }
   ],
   "metadata": {}
  },
  {
   "cell_type": "markdown",
   "source": [
    "## Demo 2: Continuous action space"
   ],
   "metadata": {}
  },
  {
   "cell_type": "code",
   "execution_count": 5,
   "source": [
    "'''DEMO 2.1: choose an off-policy DRL algorithm'''\n",
    "from elegantrl.agent import AgentSAC  # AgentTD3, AgentDDPG\n",
    "args = Arguments(if_on_policy=False)\n",
    "args.agent = AgentSAC()"
   ],
   "outputs": [],
   "metadata": {}
  },
  {
   "cell_type": "code",
   "execution_count": 6,
   "source": [
    "'''DEMO 2.2: choose an on-policy DRL algorithm'''\n",
    "from elegantrl.tutorial.agent import AgentPPO \n",
    "args = Arguments(if_on_policy=True)  # hyper-parameters of on-policy is different from off-policy\n",
    "args.agent = AgentPPO()"
   ],
   "outputs": [],
   "metadata": {}
  },
  {
   "cell_type": "code",
   "execution_count": 7,
   "source": [
    "'''choose environment'''\n",
    "env = gym.make('Pendulum-v0')\n",
    "env.target_reward = -200  # set target_reward manually for env 'Pendulum-v0'\n",
    "args.env = PreprocessEnv(env=env)\n",
    "args.reward_scale = 2 ** -3  # RewardRange: -1800 < -200 < -50 < 0\n",
    "args.net_dim = 2 ** 7\n",
    "args.batch_size = 2 ** 7\n",
    "\"TotalStep: 3e5, TargetReward: -200, UsedTime: 300s\"\n",
    "# args.env = PreprocessEnv(env=gym.make('LunarLanderContinuous-v2'))\n",
    "# args.reward_scale = 2 ** 0  # RewardRange: -800 < -200 < 200 < 302\n",
    "# \"TotalStep: 9e4, TargetReward: 200, UsedTime: 2500s\"\n",
    "# args.env = PreprocessEnv(env=gym.make('BipedalWalker-v3'))\n",
    "# args.reward_scale = 2 ** 0  # RewardRange: -200 < -150 < 300 < 334\n",
    "# args.break_step = int(2e5)\n",
    "# args.if_allow_break = False\n",
    "# \"TotalStep: 2e5, TargetReward: 300, UsedTime: 5000s\""
   ],
   "outputs": [
    {
     "output_type": "stream",
     "name": "stdout",
     "text": [
      "\n",
      "| env_name: Pendulum-v0, action space if_discrete: False\n",
      "| state_dim: 3, action_dim: 1, action_max: 2.0\n",
      "| max_step: 200 target_reward: -200\n"
     ]
    },
    {
     "output_type": "execute_result",
     "data": {
      "text/plain": [
       "'TotalStep: 2e5, TargetReward: 300, UsedTime: 5000s'"
      ]
     },
     "metadata": {},
     "execution_count": 7
    }
   ],
   "metadata": {}
  },
  {
   "cell_type": "code",
   "execution_count": 8,
   "source": [
    "'''train and evaluate'''\n",
    "train_and_evaluate(args)\n",
    "# train_and_evaluate__multiprocessing(args)  # try multiprocessing in formal version"
   ],
   "outputs": [
    {
     "output_type": "stream",
     "name": "stdout",
     "text": [
      "| GPU id: 0, cwd: ./Pendulum-v0_0\n",
      "| Remove history\n",
      "ID      Step      MaxR |    avgR      stdR       objA      objC\n",
      "0   0.00e+00  -1520.74 |\n",
      "0   4.20e+03  -1432.98 |\n",
      "0   8.40e+03  -1227.07 |\n",
      "0   1.68e+04  -1185.30 |\n",
      "0   2.10e+04  -1124.60 |\n",
      "0   2.94e+04   -940.84 |\n",
      "0   4.20e+04   -877.70 |\n",
      "0   5.46e+04   -862.52 |\n",
      "0   7.14e+04   -746.69 |\n",
      "0   9.24e+04   -620.06 |\n",
      "0   9.66e+04   -564.93 |\n",
      "0   1.09e+05   -559.21 |\n",
      "0   1.13e+05   -396.94 |\n",
      "0   1.22e+05   -250.43 |\n",
      "0   1.39e+05   -116.70 |\n",
      "ID      Step   TargetR |    avgR      stdR   UsedTime  ########\n",
      "0   1.43e+05   -200.00 | -116.70    116.00        225  ########\n"
     ]
    }
   ],
   "metadata": {}
  },
  {
   "cell_type": "markdown",
   "source": [
    "## Demo 3: Custom Env from AI4Finance"
   ],
   "metadata": {}
  },
  {
   "cell_type": "code",
   "execution_count": 12,
   "source": [
    "args = Arguments(if_on_policy=True)\n",
    "'''choose an DRL algorithm'''\n",
    "from elegantrl.tutorial.agent import AgentPPO\n",
    "args.agent = AgentPPO()\n",
    "\n",
    "from elegantrl.tutorial.env import FinanceMultiStockEnv  # a standard env for ElegantRL, not need PreprocessEnv()\n",
    "args.env = FinanceMultiStockEnv(if_train=True)\n",
    "args.env_eval = FinanceMultiStockEnv(if_train=False)  # eva_len = 1699 - train_len\n",
    "args.reward_scale = 2 ** 0  # RewardRange: 0 < 1.0 < 1.25 <\n",
    "args.break_step = int(5e6)\n",
    "args.max_step = args.env.max_step\n",
    "args.max_memo = (args.max_step - 1) * 8\n",
    "args.batch_size = 2 ** 11\n",
    "\"TotalStep:  2e5, TargetReward: 1.25, UsedTime:  200s\""
   ],
   "outputs": [
    {
     "output_type": "execute_result",
     "data": {
      "text/plain": [
       "'TotalStep: 10e5, TargetReward: 1.62, UsedTime: 1000s'"
      ]
     },
     "metadata": {},
     "execution_count": 12
    }
   ],
   "metadata": {}
  },
  {
   "cell_type": "code",
   "execution_count": 13,
   "source": [
    "'''train and evaluate'''\n",
    "train_and_evaluate(args)\n",
    "# args.rollout_num = 8\n",
    "# train_and_evaluate__multiprocessing(args)  # try multiprocessing in formal version"
   ],
   "outputs": [
    {
     "output_type": "stream",
     "name": "stdout",
     "text": [
      "| GPU id: 0, cwd: ./FinanceStock-v2_0\n",
      "| Remove history\n",
      "ID      Step      MaxR |    avgR      stdR       objA      objC\n",
      "0   0.00e+00      1.06 |\n",
      "0   5.12e+03      1.10 |\n",
      "0   1.02e+04      1.22 |\n",
      "0   2.56e+04      1.29 |\n",
      "ID      Step   TargetR |    avgR      stdR   UsedTime  ########\n",
      "0   3.07e+04      1.25 |    1.29      0.03         29  ########\n"
     ]
    }
   ],
   "metadata": {}
  },
  {
   "cell_type": "markdown",
   "source": [
    "## Demo 4: train in PyBullet (MuJoCo) (wait for adding)"
   ],
   "metadata": {}
  },
  {
   "cell_type": "code",
   "execution_count": null,
   "source": [
    "import gym  # don't worry about 'WARN: Box bound precision lowered by casting to float32'\n",
    "import pybullet_envs  # PyBullet is free, but MuJoCo is paid\n",
    "from AgentEnv import decorate_env\n",
    "from AgentRun import Arguments, train_and_evaluate\n",
    "from AgentZoo import AgentTD3, AgentSAC, AgentPPO"
   ],
   "outputs": [],
   "metadata": {}
  },
  {
   "cell_type": "code",
   "execution_count": null,
   "source": [
    "env_name = 'AntBulletEnv-v0'\n",
    "assert env_name in {\n",
    "    \"AntBulletEnv-v0\", \n",
    "    \"Walker2DBulletEnv-v0\", \n",
    "    \"HalfCheetahBulletEnv-v0\",\n",
    "    \"HumanoidBulletEnv-v0\", \n",
    "    \"HumanoidFlagrunBulletEnv-v0\", \n",
    "    \"HumanoidFlagrunHarderBulletEnv-v0\",\n",
    "}\n",
    "env = gym.make(env_name)\n",
    "env = decorate_env(env, if_print=True)"
   ],
   "outputs": [],
   "metadata": {
    "scrolled": true
   }
  },
  {
   "cell_type": "code",
   "execution_count": null,
   "source": [
    "args = Arguments()\n",
    "args.agent_rl = AgentSAC  # AgentSAC can't reach target_reward=2500, try AgentModSAC\n",
    "args.env = env\n",
    "args.reward_scale = 2 ** -3\n",
    "args.break_step = int(1e6 * 8)\n",
    "args.eval_times = 2"
   ],
   "outputs": [],
   "metadata": {}
  },
  {
   "cell_type": "markdown",
   "source": [
    "## Demo 5: Atari game (wait for adding)"
   ],
   "metadata": {}
  },
  {
   "cell_type": "code",
   "execution_count": null,
   "source": [
    "env_name = 'breakout-v0'  # 'SpaceInvaders-v0'"
   ],
   "outputs": [],
   "metadata": {}
  }
 ],
 "metadata": {
  "kernelspec": {
   "name": "python3",
   "display_name": "Python 3.9.6 64-bit ('minerl': conda)"
  },
  "language_info": {
   "codemirror_mode": {
    "name": "ipython",
    "version": 3
   },
   "file_extension": ".py",
   "mimetype": "text/x-python",
   "name": "python",
   "nbconvert_exporter": "python",
   "pygments_lexer": "ipython3",
   "version": "3.9.6"
  },
  "interpreter": {
   "hash": "66910af044778d71a9ae8e599ed2e47adc6749bab61f9b11c2c32b150153758c"
  }
 },
 "nbformat": 4,
 "nbformat_minor": 4
}