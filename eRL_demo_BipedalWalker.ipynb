{
  "nbformat": 4,
  "nbformat_minor": 2,
  "metadata": {
    "colab": {
      "name": "BipedalWalker_Example.ipynb",
      "provenance": [],
      "collapsed_sections": [],
      "include_colab_link": true
    },
    "kernelspec": {
      "name": "python3",
      "display_name": "Python 3.9.6 64-bit ('minerl': conda)"
    },
    "language_info": {
      "name": "python",
      "version": "3.9.6",
      "mimetype": "text/x-python",
      "codemirror_mode": {
        "name": "ipython",
        "version": 3
      },
      "pygments_lexer": "ipython3",
      "nbconvert_exporter": "python",
      "file_extension": ".py"
    },
    "interpreter": {
      "hash": "66910af044778d71a9ae8e599ed2e47adc6749bab61f9b11c2c32b150153758c"
    }
  },
  "cells": [
    {
      "cell_type": "markdown",
      "source": [
        "<a href=\"https://colab.research.google.com/github/AI4Finance-LLC/ElegantRL/blob/master/BipedalWalker_Example.ipynb\" target=\"_parent\"><img src=\"https://colab.research.google.com/assets/colab-badge.svg\" alt=\"Open In Colab\"/></a>"
      ],
      "metadata": {
        "id": "view-in-github",
        "colab_type": "text"
      }
    },
    {
      "cell_type": "markdown",
      "source": [
        "# **BipedalWalker-v3 Example in ElegantRL**\n",
        "\n",
        "\n",
        "\n",
        "\n"
      ],
      "metadata": {
        "id": "c1gUG3OCJ5GS"
      }
    },
    {
      "cell_type": "markdown",
      "source": [
        "# **Part 1: Testing Task Description**\n",
        "\n",
        "[BipedalWalker-v3](https://gym.openai.com/envs/BipedalWalker-v2/) is a classic task in robotics since it performs one of the most fundamental skills: moving. In this task, our goal is to make a 2D biped walker to walk through rough terrain. BipedalWalker is a difficult task in continuous action space, and there are only a few RL implementations can reach the target reward."
      ],
      "metadata": {
        "id": "FGXyBBvL0dR2"
      }
    },
    {
      "cell_type": "code",
      "execution_count": 1,
      "source": [
        "from IPython.display import HTML\n",
        "HTML(f\"\"\"<video src={\"https://gym.openai.com/videos/2019-10-21--mqt8Qj1mwo/BipedalWalker-v2/original.mp4\"} width=500 controls/>\"\"\") # the random demonstration of the task from OpenAI Gym"
      ],
      "outputs": [
        {
          "output_type": "execute_result",
          "data": {
            "text/html": [
              "<video src=https://gym.openai.com/videos/2019-10-21--mqt8Qj1mwo/BipedalWalker-v2/original.mp4 width=500 controls/>"
            ],
            "text/plain": [
              "<IPython.core.display.HTML object>"
            ]
          },
          "metadata": {},
          "execution_count": 1
        }
      ],
      "metadata": {
        "colab": {
          "base_uri": "https://localhost:8080/",
          "height": 354
        },
        "id": "-HUVckiDVPhN",
        "outputId": "ea2edb57-2066-4206-fbe0-fb20525efda8"
      }
    },
    {
      "cell_type": "markdown",
      "source": [
        "# **Part 2: Install ElegantRL**"
      ],
      "metadata": {
        "id": "DbamGVHC3AeW"
      }
    },
    {
      "cell_type": "code",
      "execution_count": 2,
      "source": [
        "# install elegantrl library\n",
        "!pip install git+https://github.com/AI4Finance-LLC/ElegantRL.git"
      ],
      "outputs": [
        {
          "output_type": "stream",
          "name": "stdout",
          "text": [
            "Collecting git+https://github.com/AI4Finance-LLC/ElegantRL.git\n",
            "  Cloning https://github.com/AI4Finance-LLC/ElegantRL.git to /tmp/pip-req-build-j8ggl5hn\n",
            "  Running command git clone -q https://github.com/AI4Finance-LLC/ElegantRL.git /tmp/pip-req-build-j8ggl5hn\n",
            "^C\n",
            "\u001b[31mERROR: Operation cancelled by user\u001b[0m\n"
          ]
        }
      ],
      "metadata": {
        "id": "U35bhkUqOqbS",
        "colab": {
          "base_uri": "https://localhost:8080/"
        },
        "outputId": "71f0c3a5-ecfc-4a44-f8e7-af491c1d1358"
      }
    },
    {
      "cell_type": "markdown",
      "source": [
        "# **Part 3: Import Packages**\n",
        "\n",
        "\n",
        "*   **elegantrl**\n",
        "*   **OpenAI Gym**: a toolkit for developing and comparing reinforcement learning algorithms.\n",
        "*   **PyBullet Gym**: an open-source implementation of the OpenAI Gym MuJoCo environments.\n",
        "\n"
      ],
      "metadata": {
        "id": "UVdmpnK_3Zcn"
      }
    },
    {
      "cell_type": "code",
      "execution_count": null,
      "source": [
        "from elegantrl.run import *\n",
        "from elegantrl.agent import AgentDQN\n",
        "from elegantrl.env import PreprocessEnv\n",
        "import gym\n",
        "gym.logger.set_level(40) # Block warning\n",
        "env = mpe_make_env('simple_spread')"
      ],
      "outputs": [],
      "metadata": {
        "id": "1VM1xKujoz-6"
      }
    },
    {
      "cell_type": "markdown",
      "source": [
        "# **Part 4: Specify Agent and Environment**\n",
        "\n",
        "*   **args.agent**: firstly chooses one DRL algorithm to use, and the user is able to choose any agent from agent.py\n",
        "*   **args.env**: creates and preprocesses the environment, and the user can either customize own environment or preprocess environments from OpenAI Gym and PyBullet Gym from env.py.\n",
        "\n",
        "\n",
        "> Before finishing initialization of **args**, please see Arguments() in run.py for more details about adjustable hyper-parameters.\n",
        "\n",
        "\n"
      ],
      "metadata": {
        "id": "3n8zcgcn14uq"
      }
    },
    {
      "cell_type": "code",
      "execution_count": null,
      "source": [
        "args = Arguments(if_on_policy=False)\n",
        "args.agent = AgentDQN()  # AgentSAC(), AgentTD3(), AgentDDPG()\n",
        "args.env = PreprocessEnv(env)\n",
        "args.reward_scale = 2 ** -1  # RewardRange: -200 < -150 < 300 < 334\n",
        "args.gamma = 0.95\n",
        "args.rollout_num = 2# the number of rollout workers (larger is not always faster)"
      ],
      "outputs": [
        {
          "output_type": "stream",
          "name": "stdout",
          "text": [
            "\n",
            "| env_name:  simple_spread, action if_discrete: True\n",
            "| state_dim:   18, action_dim: 5, action_max: 1\n",
            "| max_step:  1024, target_return: 65536\n"
          ]
        }
      ],
      "metadata": {
        "id": "E03f6cTeajK4",
        "colab": {
          "base_uri": "https://localhost:8080/"
        },
        "outputId": "aba2d931-4805-4d26-bcea-439bc27e7e69"
      }
    },
    {
      "cell_type": "markdown",
      "source": [
        "# **Part 5: Train and Evaluate the Agent**\n",
        "\n",
        "> The training and evaluating processes are all finished inside function **train_and_evaluate_mp()**, and the only parameter for it is **args**. It includes the fundamental objects in DRL:\n",
        "\n",
        "*   agent,\n",
        "*   environment.\n",
        "\n",
        "> And it also includes the parameters for training-control:\n",
        "\n",
        "*   batch_size,\n",
        "*   target_step,\n",
        "*   reward_scale,\n",
        "*   gamma, etc.\n",
        "\n",
        "> The parameters for evaluation-control:\n",
        "\n",
        "*   break_step,\n",
        "*   random_seed, etc.\n",
        "\n",
        "\n",
        "\n",
        "\n"
      ],
      "metadata": {
        "id": "z1j5kLHF2dhJ"
      }
    },
    {
      "cell_type": "code",
      "execution_count": 1,
      "source": [
        "from elegantrl.run import *\n",
        "from elegantrl.agent import AgentDQN\n",
        "from elegantrl.env import PreprocessEnv\n",
        "import gym\n",
        "gym.logger.set_level(40) # Block warning\n",
        "env = mpe_make_env('simple_spread')\n",
        "args = Arguments(if_on_policy=False)\n",
        "args.agent = AgentDQN()  # AgentSAC(), AgentTD3(), AgentDDPG()\n",
        "args.env = PreprocessEnv(env)\n",
        "args.reward_scale = 2 ** -1  # RewardRange: -200 < -150 < 300 < 334\n",
        "args.gamma = 0.95\n",
        "args.rollout_num = 2# the number of rollout workers (larger is not always faster)\n",
        "train_and_evaluate(args) # the training process will terminate once it reaches the target reward."
      ],
      "outputs": [
        {
          "output_type": "stream",
          "name": "stdout",
          "text": [
            "\n",
            "| env_name:  simple_spread, action if_discrete: True\n",
            "| state_dim:   18, action_dim: 5, action_max: 1\n",
            "| max_step:  1024, target_return: 65536\n",
            "*****************\n",
            "| Remove cwd: ./AgentDQN_simple_spread_0\n",
            "*****************\n",
            "*****************\n",
            "################################################################################\n",
            "ID     Step    maxR |    avgR   stdR   avgS  stdS |    expR   objC   etc.\n",
            "*****************\n",
            "*****************\n"
          ]
        },
        {
          "output_type": "error",
          "ename": "AttributeError",
          "evalue": "'list' object has no attribute 'shape'",
          "traceback": [
            "\u001b[0;31m---------------------------------------------------------------------------\u001b[0m",
            "\u001b[0;31mAttributeError\u001b[0m                            Traceback (most recent call last)",
            "\u001b[0;32m/tmp/ipykernel_11116/150023724.py\u001b[0m in \u001b[0;36m<module>\u001b[0;34m\u001b[0m\n\u001b[1;32m     11\u001b[0m \u001b[0margs\u001b[0m\u001b[0;34m.\u001b[0m\u001b[0mgamma\u001b[0m \u001b[0;34m=\u001b[0m \u001b[0;36m0.95\u001b[0m\u001b[0;34m\u001b[0m\u001b[0;34m\u001b[0m\u001b[0m\n\u001b[1;32m     12\u001b[0m \u001b[0margs\u001b[0m\u001b[0;34m.\u001b[0m\u001b[0mrollout_num\u001b[0m \u001b[0;34m=\u001b[0m \u001b[0;36m2\u001b[0m\u001b[0;31m# the number of rollout workers (larger is not always faster)\u001b[0m\u001b[0;34m\u001b[0m\u001b[0;34m\u001b[0m\u001b[0m\n\u001b[0;32m---> 13\u001b[0;31m \u001b[0mtrain_and_evaluate\u001b[0m\u001b[0;34m(\u001b[0m\u001b[0margs\u001b[0m\u001b[0;34m)\u001b[0m \u001b[0;31m# the training process will terminate once it reaches the target reward.\u001b[0m\u001b[0;34m\u001b[0m\u001b[0;34m\u001b[0m\u001b[0m\n\u001b[0m",
            "\u001b[0;32m~/ElegantRL/elegantrl/run.py\u001b[0m in \u001b[0;36mtrain_and_evaluate\u001b[0;34m(***failed resolving arguments***)\u001b[0m\n\u001b[1;32m    222\u001b[0m             \u001b[0mtrajectory\u001b[0m \u001b[0;34m=\u001b[0m \u001b[0mexplore_before_training\u001b[0m\u001b[0;34m(\u001b[0m\u001b[0menv\u001b[0m\u001b[0;34m,\u001b[0m \u001b[0mtarget_step\u001b[0m\u001b[0;34m)\u001b[0m\u001b[0;34m\u001b[0m\u001b[0;34m\u001b[0m\u001b[0m\n\u001b[1;32m    223\u001b[0m             \u001b[0mtrajectory\u001b[0m \u001b[0;34m=\u001b[0m \u001b[0;34m[\u001b[0m\u001b[0mtrajectory\u001b[0m\u001b[0;34m,\u001b[0m \u001b[0;34m]\u001b[0m\u001b[0;34m\u001b[0m\u001b[0;34m\u001b[0m\u001b[0m\n\u001b[0;32m--> 224\u001b[0;31m             \u001b[0msteps\u001b[0m\u001b[0;34m,\u001b[0m \u001b[0mr_exp\u001b[0m \u001b[0;34m=\u001b[0m \u001b[0mupdate_buffer\u001b[0m\u001b[0;34m(\u001b[0m\u001b[0mtrajectory\u001b[0m\u001b[0;34m)\u001b[0m\u001b[0;34m\u001b[0m\u001b[0;34m\u001b[0m\u001b[0m\n\u001b[0m\u001b[1;32m    225\u001b[0m             \u001b[0mevaluator\u001b[0m\u001b[0;34m.\u001b[0m\u001b[0mtotal_step\u001b[0m \u001b[0;34m+=\u001b[0m \u001b[0msteps\u001b[0m\u001b[0;34m\u001b[0m\u001b[0;34m\u001b[0m\u001b[0m\n\u001b[1;32m    226\u001b[0m \u001b[0;34m\u001b[0m\u001b[0m\n",
            "\u001b[0;32m~/ElegantRL/elegantrl/run.py\u001b[0m in \u001b[0;36mupdate_buffer\u001b[0;34m(_trajectory_list)\u001b[0m\n\u001b[1;32m    200\u001b[0m             \u001b[0;31m#print(_trajectory_list.shape)\u001b[0m\u001b[0;34m\u001b[0m\u001b[0;34m\u001b[0m\u001b[0;34m\u001b[0m\u001b[0m\n\u001b[1;32m    201\u001b[0m             \u001b[0;32mfor\u001b[0m \u001b[0m_trajectory\u001b[0m \u001b[0;32min\u001b[0m \u001b[0m_trajectory_list\u001b[0m\u001b[0;34m:\u001b[0m\u001b[0;34m\u001b[0m\u001b[0;34m\u001b[0m\u001b[0m\n\u001b[0;32m--> 202\u001b[0;31m                 \u001b[0mprint\u001b[0m\u001b[0;34m(\u001b[0m\u001b[0m_trajectory\u001b[0m\u001b[0;34m.\u001b[0m\u001b[0mshape\u001b[0m\u001b[0;34m)\u001b[0m\u001b[0;34m\u001b[0m\u001b[0;34m\u001b[0m\u001b[0m\n\u001b[0m\u001b[1;32m    203\u001b[0m                 \u001b[0mten_state\u001b[0m \u001b[0;34m=\u001b[0m \u001b[0mtorch\u001b[0m\u001b[0;34m.\u001b[0m\u001b[0mas_tensor\u001b[0m\u001b[0;34m(\u001b[0m\u001b[0;34m[\u001b[0m\u001b[0mitem\u001b[0m\u001b[0;34m[\u001b[0m\u001b[0;36m0\u001b[0m\u001b[0;34m]\u001b[0m \u001b[0;32mfor\u001b[0m \u001b[0mitem\u001b[0m \u001b[0;32min\u001b[0m \u001b[0m_trajectory\u001b[0m\u001b[0;34m]\u001b[0m\u001b[0;34m,\u001b[0m \u001b[0mdtype\u001b[0m\u001b[0;34m=\u001b[0m\u001b[0mtorch\u001b[0m\u001b[0;34m.\u001b[0m\u001b[0mfloat32\u001b[0m\u001b[0;34m)\u001b[0m\u001b[0;34m\u001b[0m\u001b[0;34m\u001b[0m\u001b[0m\n\u001b[1;32m    204\u001b[0m                 \u001b[0mary_other\u001b[0m \u001b[0;34m=\u001b[0m \u001b[0mtorch\u001b[0m\u001b[0;34m.\u001b[0m\u001b[0mas_tensor\u001b[0m\u001b[0;34m(\u001b[0m\u001b[0;34m[\u001b[0m\u001b[0mitem\u001b[0m\u001b[0;34m[\u001b[0m\u001b[0;36m1\u001b[0m\u001b[0;34m]\u001b[0m \u001b[0;32mfor\u001b[0m \u001b[0mitem\u001b[0m \u001b[0;32min\u001b[0m \u001b[0m_trajectory\u001b[0m\u001b[0;34m]\u001b[0m\u001b[0;34m)\u001b[0m\u001b[0;34m\u001b[0m\u001b[0;34m\u001b[0m\u001b[0m\n",
            "\u001b[0;31mAttributeError\u001b[0m: 'list' object has no attribute 'shape'"
          ]
        }
      ],
      "metadata": {
        "id": "KGOPSD6da23k",
        "colab": {
          "base_uri": "https://localhost:8080/"
        },
        "outputId": "431aa2cb-c802-42d0-e892-d4f2a55b0cd7"
      }
    },
    {
      "cell_type": "code",
      "execution_count": 2,
      "source": [
        "a = (1,2)\n",
        "print(type(a))\n",
        "print(a[0])"
      ],
      "outputs": [
        {
          "output_type": "stream",
          "name": "stdout",
          "text": [
            "<class 'tuple'>\n"
          ]
        }
      ],
      "metadata": {}
    },
    {
      "cell_type": "markdown",
      "source": [
        "Understanding the above results::\n",
        "*   **Step**: the total training steps.\n",
        "*  **MaxR**: the maximum reward.\n",
        "*   **avgR**: the average of the rewards.\n",
        "*   **stdR**: the standard deviation of the rewards.\n",
        "*   **objA**: the objective function value of Actor Network (Policy Network).\n",
        "*   **objC**: the objective function value (Q-value)  of Critic Network (Value Network)."
      ],
      "metadata": {
        "id": "JPXOxLSqh5cP"
      }
    }
  ]
}